{
 "cells": [
  {
   "cell_type": "markdown",
   "id": "b46fd38f-fb4a-4381-8019-46a41fe63a00",
   "metadata": {
    "tags": []
   },
   "source": [
    "# Data Science Tools and Ecosystem"
   ]
  },
  {
   "cell_type": "markdown",
   "id": "1fce50fa-f615-4eaf-92a0-1191d4a921ef",
   "metadata": {},
   "source": [
    "In this notebook, Data Science Tools and Ecosystem are summarized."
   ]
  },
  {
   "cell_type": "markdown",
   "id": "96d04096-49dd-4d28-bc76-98ed47fafcb7",
   "metadata": {},
   "source": [
    "__Objectives:__\n",
    "- List popular languages for Data Science\n",
    "- List popular libraries for Data Science\n",
    "- Categories of data science tools"
   ]
  },
  {
   "cell_type": "markdown",
   "id": "d7793347-40b8-4ca2-86d0-5741d167cdc5",
   "metadata": {},
   "source": [
    "Some of the popular languages that Data Scientists use are:\n",
    "1. Python\n",
    "2. R\n",
    "3. SQL"
   ]
  },
  {
   "cell_type": "markdown",
   "id": "18b0dfb3-d36d-406e-9811-7e4b0bba2151",
   "metadata": {},
   "source": [
    "Some of the commonly used libraries used by Data Scientists include:\n",
    "1. TensorFlow\n",
    "2. Panda\n",
    "3. GGplot"
   ]
  },
  {
   "cell_type": "markdown",
   "id": "b08a4960-c22e-4ccf-9442-02fe695e9cc8",
   "metadata": {},
   "source": [
    "| Data Science Tools |\n",
    "|-|\n",
    "| Rstudio |\n",
    "| Keras |\n",
    "| Hadoop |"
   ]
  },
  {
   "cell_type": "markdown",
   "id": "a16a7dae-552d-4653-8938-cf344c4fbe63",
   "metadata": {},
   "source": [
    "### Below are a few examples of evaluating arithmetic expressions in Python"
   ]
  },
  {
   "cell_type": "code",
   "execution_count": 1,
   "id": "c2e025eb-6c3a-4572-9bad-d7d2ee8672ac",
   "metadata": {
    "tags": []
   },
   "outputs": [
    {
     "data": {
      "text/plain": [
       "17"
      ]
     },
     "execution_count": 1,
     "metadata": {},
     "output_type": "execute_result"
    }
   ],
   "source": [
    "#This a simple arithmetic expression to mutiply then add integers\n",
    "(3*4)+5"
   ]
  },
  {
   "cell_type": "code",
   "execution_count": 2,
   "id": "f2f685e8-35a2-4878-b94a-b98eb324a231",
   "metadata": {
    "tags": []
   },
   "outputs": [
    {
     "data": {
      "text/plain": [
       "3.3333333333333335"
      ]
     },
     "execution_count": 2,
     "metadata": {},
     "output_type": "execute_result"
    }
   ],
   "source": [
    "#This will convert 200 minutes to hours by diving by 60\n",
    "200/60"
   ]
  },
  {
   "cell_type": "markdown",
   "id": "9773ca58-9adf-456a-8f3d-3586236dc98c",
   "metadata": {},
   "source": [
    "## Author\n",
    "Chong Voon Hong"
   ]
  },
  {
   "cell_type": "code",
   "execution_count": null,
   "id": "be97c156-91a2-4b05-83f8-c8d626570702",
   "metadata": {},
   "outputs": [],
   "source": []
  }
 ],
 "metadata": {
  "kernelspec": {
   "display_name": "Python",
   "language": "python",
   "name": "conda-env-python-py"
  },
  "language_info": {
   "codemirror_mode": {
    "name": "ipython",
    "version": 3
   },
   "file_extension": ".py",
   "mimetype": "text/x-python",
   "name": "python",
   "nbconvert_exporter": "python",
   "pygments_lexer": "ipython3",
   "version": "3.7.12"
  }
 },
 "nbformat": 4,
 "nbformat_minor": 5
}
